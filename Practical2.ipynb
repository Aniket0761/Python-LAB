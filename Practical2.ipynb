{
 "metadata": {
  "language_info": {
   "codemirror_mode": {
    "name": "ipython",
    "version": 3
   },
   "file_extension": ".py",
   "mimetype": "text/x-python",
   "name": "python",
   "nbconvert_exporter": "python",
   "pygments_lexer": "ipython3",
   "version": 3
  },
  "orig_nbformat": 2,
  "kernelspec": {
   "name": "python_defaultSpec_1595627007729",
   "display_name": "Python 3.8.4 64-bit"
  }
 },
 "nbformat": 4,
 "nbformat_minor": 2,
 "cells": [
  {
   "cell_type": "markdown",
   "metadata": {},
   "source": [
    "-------\n",
    "Average of First n Numbers\n",
    "----"
   ]
  },
  {
   "cell_type": "code",
   "execution_count": 3,
   "metadata": {
    "tags": []
   },
   "outputs": [
    {
     "output_type": "stream",
     "name": "stdout",
     "text": "Average of first  10  numbers is  5.5\n"
    }
   ],
   "source": [
    "n = 10\n",
    "sum = 0\n",
    "\n",
    "for i in range(1, n + 1):\n",
    "    sum += i\n",
    "\n",
    "avg = sum / n\n",
    "\n",
    "print(\"Average of first \", n, ' numbers is ', avg)"
   ]
  },
  {
   "cell_type": "markdown",
   "metadata": {},
   "source": [
    "---\n",
    "Factorial of a Number\n",
    "--"
   ]
  },
  {
   "cell_type": "code",
   "execution_count": 8,
   "metadata": {
    "tags": []
   },
   "outputs": [
    {
     "output_type": "stream",
     "name": "stdout",
     "text": "Factorial of 5 is 120\n"
    }
   ],
   "source": [
    "n = 5\n",
    "fac = 1\n",
    "\n",
    "for i in range(1, n + 1):\n",
    "    fac *= i\n",
    "\n",
    "print(f\"Factorial of {n} is {fac}\")"
   ]
  },
  {
   "cell_type": "markdown",
   "metadata": {},
   "source": [
    "------------------------------------\n",
    "Check Whether Number is Prime or Not\n",
    "------------------------------------"
   ]
  },
  {
   "cell_type": "code",
   "execution_count": 15,
   "metadata": {
    "tags": []
   },
   "outputs": [
    {
     "output_type": "stream",
     "name": "stdout",
     "text": "1 is Neither Prime Nor Composite\n2 is Composite\n5 is Prime\n64 is Composite\n123 is Prime\n"
    }
   ],
   "source": [
    "def prime(num):\n",
    "    if num == 1:\n",
    "        return \"Neither Prime Nor Composite\"\n",
    "    for i in range (int(num/2), num):\n",
    "        if num % i == 0:\n",
    "            return 'Composite'\n",
    "    return 'Prime'\n",
    "\n",
    "#5 Test Cases\n",
    "print(f'1 is {prime(1)}')\n",
    "print(f'2 is {prime(2)}')\n",
    "print(f'5 is {prime(5)}')\n",
    "print(f'64 is {prime(64)}')\n",
    "print(f'123 is {prime(123)}')\n"
   ]
  },
  {
   "cell_type": "markdown",
   "metadata": {},
   "source": [
    "---\n",
    "Series\n",
    "---"
   ]
  },
  {
   "cell_type": "code",
   "execution_count": 18,
   "metadata": {
    "tags": []
   },
   "outputs": [
    {
     "output_type": "stream",
     "name": "stdout",
     "text": "Showing Result for n = 5\n\n 2.283333333333333\n"
    }
   ],
   "source": [
    "n = int(input())\n",
    "sum = 0\n",
    "\n",
    "for i in range(1, n + 1):\n",
    "    sum = sum + (1 / i)\n",
    "\n",
    "print('Showing Result for n = 5\\n\\n', sum)\n"
   ]
  },
  {
   "cell_type": "markdown",
   "metadata": {},
   "source": [
    "---\n",
    "Calendar\n",
    "---"
   ]
  },
  {
   "cell_type": "code",
   "execution_count": 33,
   "metadata": {
    "tags": []
   },
   "outputs": [
    {
     "output_type": "stream",
     "name": "stdout",
     "text": "Showing Result for \nStart day = Thursday\nNumber of days = 30\n\n\nS \tM \tT \tW \tT \tF \tS \t\n \t \t \t \t1 \t2 \t3 \t\n4 \t5 \t6 \t7 \t8 \t9 \t10 \t\n11 \t12 \t13 \t14 \t15 \t16 \t17 \t\n18 \t19 \t20 \t21 \t22 \t23 \t24 \t\n25 \t26 \t27 \t28 \t29 \t30 \t \t\n"
    }
   ],
   "source": [
    "days = {'Sunday':0, 'Monday': 1, 'Tuesday':2, 'Wednesday':3, 'Thursday':4, 'Friday':5, 'Saturday':6}\n",
    "\n",
    "start_day = input(\"Enter start day: \")\n",
    "num_of_days = input(\"Enter Number Of Days: \")\n",
    "day = days[start_day]\n",
    "\n",
    "a = [[],[],[],[],[],[],[],[]]\n",
    "l = 1\n",
    "a[0] = ['S','M','T','W','T','F','S']\n",
    "\n",
    "for i in range(1,6):\n",
    "    a[i] = ['','','','','','','']\n",
    "\n",
    "for i in range(1,6):\n",
    "    for j in range(7):\n",
    "        if i == 1 and j < day:\n",
    "            pass\n",
    "        elif l > int(num_of_days):\n",
    "            break\n",
    "        else:\n",
    "            a[i][j] = l\n",
    "            l += 1\n",
    "print('Showing Result for \\nStart day = Thursday\\nNumber of days = 30\\n\\n')\n",
    "\n",
    "for i in range(6):\n",
    "    for j in range(7):\n",
    "        print(a[i][j], '\\t', end = '')\n",
    "    print('')\n"
   ]
  },
  {
   "cell_type": "markdown",
   "metadata": {},
   "source": [
    "---\n",
    "Pattern\n",
    "---"
   ]
  },
  {
   "cell_type": "code",
   "execution_count": 28,
   "metadata": {
    "tags": []
   },
   "outputs": [
    {
     "output_type": "stream",
     "name": "stdout",
     "text": "1 \n1 2 \n1 2 3 \n1 2 3 4 \n1 2 3 4 5 \n"
    }
   ],
   "source": [
    "n = 5\n",
    "\n",
    "for i in range(1, n + 1):\n",
    "    for j in range(1, i + 1):\n",
    "        print(j, end = ' ')\n",
    "    print('')"
   ]
  },
  {
   "cell_type": "markdown",
   "metadata": {},
   "source": [
    "---\n",
    "LAB 3 & 4\n",
    "---"
   ]
  },
  {
   "cell_type": "code",
   "execution_count": 43,
   "metadata": {
    "tags": []
   },
   "outputs": [
    {
     "output_type": "stream",
     "name": "stdout",
     "text": "[1, 2, 3, 4, 5]\n[1, 2, 3, 4, 5]\n"
    }
   ],
   "source": [
    "#Create a List\n",
    "\n",
    "alist = [1, 2, 3, 4, 5]\n",
    "blist = list(range(1,6))\n",
    "\n",
    "print(alist)\n",
    "print(blist)"
   ]
  },
  {
   "cell_type": "code",
   "execution_count": 44,
   "metadata": {
    "tags": []
   },
   "outputs": [
    {
     "output_type": "stream",
     "name": "stdout",
     "text": "(1, 2, 3, 4, 5)\n(1, 2, 3, 4, 5)\n"
    }
   ],
   "source": [
    "#Create a Tuple\n",
    "\n",
    "atuple = (1, 2, 3, 4, 5)\n",
    "btuple = tuple(range(1, 6))\n",
    "\n",
    "print(atuple)\n",
    "print(btuple)"
   ]
  },
  {
   "cell_type": "code",
   "execution_count": 45,
   "metadata": {
    "tags": []
   },
   "outputs": [
    {
     "output_type": "stream",
     "name": "stdout",
     "text": "[0, 2, 3, 4, 5]\n[1, 0, 3, 4, 5]\n"
    }
   ],
   "source": [
    "#difference between list and tuple\n",
    "#list is mutable while tuple is not\n",
    "\n",
    "alist[0] = 0\n",
    "blist[1] = 0\n",
    "\n",
    "print(alist)\n",
    "print(blist)"
   ]
  },
  {
   "cell_type": "code",
   "execution_count": 46,
   "metadata": {},
   "outputs": [
    {
     "output_type": "error",
     "ename": "TypeError",
     "evalue": "'tuple' object does not support item assignment",
     "traceback": [
      "\u001b[1;31m---------------------------------------------------------------------------\u001b[0m",
      "\u001b[1;31mTypeError\u001b[0m                                 Traceback (most recent call last)",
      "\u001b[1;32m<ipython-input-46-9ca1664a7b2f>\u001b[0m in \u001b[0;36m<module>\u001b[1;34m\u001b[0m\n\u001b[1;32m----> 1\u001b[1;33m \u001b[0matuple\u001b[0m\u001b[1;33m[\u001b[0m\u001b[1;36m0\u001b[0m\u001b[1;33m]\u001b[0m \u001b[1;33m=\u001b[0m \u001b[1;36m0\u001b[0m\u001b[1;33m\u001b[0m\u001b[1;33m\u001b[0m\u001b[0m\n\u001b[0m",
      "\u001b[1;31mTypeError\u001b[0m: 'tuple' object does not support item assignment"
     ]
    }
   ],
   "source": [
    "atuple[0] = 0"
   ]
  },
  {
   "cell_type": "code",
   "execution_count": 49,
   "metadata": {
    "tags": []
   },
   "outputs": [
    {
     "output_type": "stream",
     "name": "stdout",
     "text": "[0, 2, 3, 4, 5, 1, 0, 3, 4, 5]\n(1, 2, 3, 4, 5, 1, 2, 3, 4, 5)\n"
    }
   ],
   "source": [
    "#Addition on list and tuple\n",
    "\n",
    "clist = alist + blist\n",
    "print(clist)\n",
    "\n",
    "ctuple = atuple + btuple\n",
    "print(ctuple)"
   ]
  },
  {
   "cell_type": "code",
   "execution_count": 50,
   "metadata": {},
   "outputs": [
    {
     "output_type": "error",
     "ename": "TypeError",
     "evalue": "can't multiply sequence by non-int of type 'list'",
     "traceback": [
      "\u001b[1;31m---------------------------------------------------------------------------\u001b[0m",
      "\u001b[1;31mTypeError\u001b[0m                                 Traceback (most recent call last)",
      "\u001b[1;32m<ipython-input-50-6e54533a1f79>\u001b[0m in \u001b[0;36m<module>\u001b[1;34m\u001b[0m\n\u001b[0;32m      1\u001b[0m \u001b[1;31m#Multiplication on list\u001b[0m\u001b[1;33m\u001b[0m\u001b[1;33m\u001b[0m\u001b[1;33m\u001b[0m\u001b[0m\n\u001b[0;32m      2\u001b[0m \u001b[1;33m\u001b[0m\u001b[0m\n\u001b[1;32m----> 3\u001b[1;33m \u001b[0mdlist\u001b[0m \u001b[1;33m=\u001b[0m \u001b[0malist\u001b[0m \u001b[1;33m*\u001b[0m \u001b[0mblist\u001b[0m\u001b[1;33m\u001b[0m\u001b[1;33m\u001b[0m\u001b[0m\n\u001b[0m",
      "\u001b[1;31mTypeError\u001b[0m: can't multiply sequence by non-int of type 'list'"
     ]
    }
   ],
   "source": [
    "#Multiplication on list\n",
    "\n",
    "dlist = alist * blist"
   ]
  },
  {
   "cell_type": "code",
   "execution_count": 51,
   "metadata": {},
   "outputs": [
    {
     "output_type": "error",
     "ename": "TypeError",
     "evalue": "can't multiply sequence by non-int of type 'tuple'",
     "traceback": [
      "\u001b[1;31m---------------------------------------------------------------------------\u001b[0m",
      "\u001b[1;31mTypeError\u001b[0m                                 Traceback (most recent call last)",
      "\u001b[1;32m<ipython-input-51-66ecfc2ba128>\u001b[0m in \u001b[0;36m<module>\u001b[1;34m\u001b[0m\n\u001b[0;32m      1\u001b[0m \u001b[1;31m#Multiplication on tuple\u001b[0m\u001b[1;33m\u001b[0m\u001b[1;33m\u001b[0m\u001b[1;33m\u001b[0m\u001b[0m\n\u001b[0;32m      2\u001b[0m \u001b[1;33m\u001b[0m\u001b[0m\n\u001b[1;32m----> 3\u001b[1;33m \u001b[0mdtuple\u001b[0m \u001b[1;33m=\u001b[0m \u001b[0matuple\u001b[0m \u001b[1;33m*\u001b[0m \u001b[0mbtuple\u001b[0m\u001b[1;33m\u001b[0m\u001b[1;33m\u001b[0m\u001b[0m\n\u001b[0m",
      "\u001b[1;31mTypeError\u001b[0m: can't multiply sequence by non-int of type 'tuple'"
     ]
    }
   ],
   "source": [
    "#Multiplication on tuple\n",
    "\n",
    "dtuple = atuple * btuple"
   ]
  },
  {
   "cell_type": "code",
   "execution_count": 52,
   "metadata": {
    "tags": []
   },
   "outputs": [
    {
     "output_type": "stream",
     "name": "stdout",
     "text": "[3, 4]\n"
    }
   ],
   "source": [
    "#Slicing on list\n",
    "\n",
    "elist = alist[2:4]\n",
    "print(elist)"
   ]
  },
  {
   "cell_type": "code",
   "execution_count": 53,
   "metadata": {
    "tags": []
   },
   "outputs": [
    {
     "output_type": "stream",
     "name": "stdout",
     "text": "(3, 4)\n"
    }
   ],
   "source": [
    "#Slicing on Tuple\n",
    "\n",
    "etuple = atuple[2:4]\n",
    "print(etuple)"
   ]
  },
  {
   "cell_type": "code",
   "execution_count": 65,
   "metadata": {},
   "outputs": [
    {
     "output_type": "execute_result",
     "data": {
      "text/plain": "{'Name': 'Aniket', 'Age': 19, 'Height': 180, 'Weight': 65}"
     },
     "metadata": {},
     "execution_count": 65
    }
   ],
   "source": [
    "#Create Dictionaries\n",
    "\n",
    "test_dict = {'Name':'Aniket', 'Age': 19, 'Height':180, 'Weight': 65}\n",
    "test_dict"
   ]
  },
  {
   "cell_type": "code",
   "execution_count": 81,
   "metadata": {},
   "outputs": [
    {
     "output_type": "execute_result",
     "data": {
      "text/plain": "             0\nName    Aniket\nAge         19\nHeight     180\nWeight      65",
      "text/html": "<div>\n<style scoped>\n    .dataframe tbody tr th:only-of-type {\n        vertical-align: middle;\n    }\n\n    .dataframe tbody tr th {\n        vertical-align: top;\n    }\n\n    .dataframe thead th {\n        text-align: right;\n    }\n</style>\n<table border=\"1\" class=\"dataframe\">\n  <thead>\n    <tr style=\"text-align: right;\">\n      <th></th>\n      <th>0</th>\n    </tr>\n  </thead>\n  <tbody>\n    <tr>\n      <th>Name</th>\n      <td>Aniket</td>\n    </tr>\n    <tr>\n      <th>Age</th>\n      <td>19</td>\n    </tr>\n    <tr>\n      <th>Height</th>\n      <td>180</td>\n    </tr>\n    <tr>\n      <th>Weight</th>\n      <td>65</td>\n    </tr>\n  </tbody>\n</table>\n</div>"
     },
     "metadata": {},
     "execution_count": 81
    }
   ],
   "source": [
    "import pandas as pd\n",
    "pd.DataFrame(test_dict.values(), index = test_dict.keys())"
   ]
  }
 ]
}