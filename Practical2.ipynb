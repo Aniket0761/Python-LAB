{
 "metadata": {
  "language_info": {
   "codemirror_mode": {
    "name": "ipython",
    "version": 3
   },
   "file_extension": ".py",
   "mimetype": "text/x-python",
   "name": "python",
   "nbconvert_exporter": "python",
   "pygments_lexer": "ipython3",
   "version": 3
  },
  "orig_nbformat": 2,
  "kernelspec": {
   "name": "python_defaultSpec_1595627007729",
   "display_name": "Python 3.8.4 64-bit"
  }
 },
 "nbformat": 4,
 "nbformat_minor": 2,
 "cells": [
  {
   "cell_type": "markdown",
   "metadata": {},
   "source": [
    "-------\n",
    "Average of First n Numbers\n",
    "----"
   ]
  },
  {
   "cell_type": "code",
   "execution_count": 3,
   "metadata": {
    "tags": []
   },
   "outputs": [
    {
     "output_type": "stream",
     "name": "stdout",
     "text": "Average of first  10  numbers is  5.5\n"
    }
   ],
   "source": [
    "n = 10\n",
    "sum = 0\n",
    "\n",
    "for i in range(1, n + 1):\n",
    "    sum += i\n",
    "\n",
    "avg = sum / n\n",
    "\n",
    "print(\"Average of first \", n, ' numbers is ', avg)"
   ]
  },
  {
   "cell_type": "markdown",
   "metadata": {},
   "source": [
    "---\n",
    "Factorial of a Number\n",
    "--"
   ]
  },
  {
   "cell_type": "code",
   "execution_count": 8,
   "metadata": {
    "tags": []
   },
   "outputs": [
    {
     "output_type": "stream",
     "name": "stdout",
     "text": "Factorial of 5 is 120\n"
    }
   ],
   "source": [
    "n = 5\n",
    "fac = 1\n",
    "\n",
    "for i in range(1, n + 1):\n",
    "    fac *= i\n",
    "\n",
    "print(f\"Factorial of {n} is {fac}\")"
   ]
  },
  {
   "cell_type": "markdown",
   "metadata": {},
   "source": [
    "------------------------------------\n",
    "Check Whether Number is Prime or Not\n",
    "------------------------------------"
   ]
  },
  {
   "cell_type": "code",
   "execution_count": 15,
   "metadata": {
    "tags": []
   },
   "outputs": [
    {
     "output_type": "stream",
     "name": "stdout",
     "text": "1 is Neither Prime Nor Composite\n2 is Composite\n5 is Prime\n64 is Composite\n123 is Prime\n"
    }
   ],
   "source": [
    "def prime(num):\n",
    "    if num == 1:\n",
    "        return \"Neither Prime Nor Composite\"\n",
    "    for i in range (int(num/2), num):\n",
    "        if num % i == 0:\n",
    "            return 'Composite'\n",
    "    return 'Prime'\n",
    "\n",
    "#5 Test Cases\n",
    "print(f'1 is {prime(1)}')\n",
    "print(f'2 is {prime(2)}')\n",
    "print(f'5 is {prime(5)}')\n",
    "print(f'64 is {prime(64)}')\n",
    "print(f'123 is {prime(123)}')\n"
   ]
  },
  {
   "cell_type": "markdown",
   "metadata": {},
   "source": [
    "---\n",
    "Series\n",
    "---"
   ]
  },
  {
   "cell_type": "code",
   "execution_count": 18,
   "metadata": {
    "tags": []
   },
   "outputs": [
    {
     "output_type": "stream",
     "name": "stdout",
     "text": "Showing Result for n = 5\n\n 2.283333333333333\n"
    }
   ],
   "source": [
    "n = int(input())\n",
    "sum = 0\n",
    "\n",
    "for i in range(1, n + 1):\n",
    "    sum = sum + (1 / i)\n",
    "\n",
    "print('Showing Result for n = 5\\n\\n', sum)\n"
   ]
  },
  {
   "cell_type": "markdown",
   "metadata": {},
   "source": [
    "---\n",
    "Calendar\n",
    "---"
   ]
  },
  {
   "cell_type": "code",
   "execution_count": 24,
   "metadata": {
    "tags": []
   },
   "outputs": [
    {
     "output_type": "stream",
     "name": "stdout",
     "text": "Showing Result for \nStart day = Thursday\nNumber of days = 30\n\n\nM \tT \tW \tT \tF \tS \tS \t\n0 \t0 \t0 \t1 \t2 \t3 \t4 \t\n5 \t6 \t7 \t8 \t9 \t10 \t11 \t\n12 \t13 \t14 \t15 \t16 \t17 \t18 \t\n19 \t20 \t21 \t22 \t23 \t24 \t25 \t\n26 \t27 \t28 \t29 \t30 \t0 \t0 \t\n"
    }
   ],
   "source": [
    "days = {'Monday': 0, 'Tuesday':1, 'Wednesday':2, 'Thursday':3, 'Friday':4, 'Saturday':5, 'Sunday':6}\n",
    "\n",
    "start_day = input(\"Enter start day: \")\n",
    "num_of_days = input(\"Enter Number Of Days: \")\n",
    "day = days[start_day]\n",
    "\n",
    "a = [[],[],[],[],[],[],[],[]]\n",
    "l = 1\n",
    "a[0] = ['M','T','W','T','F','S','S']\n",
    "\n",
    "for i in range(1,6):\n",
    "    a[i] = [0, 0, 0, 0, 0, 0, 0]\n",
    "\n",
    "for i in range(1,6):\n",
    "    for j in range(7):\n",
    "        if i == 1 and j < day:\n",
    "            pass\n",
    "        elif l > int(num_of_days):\n",
    "            break\n",
    "        else:\n",
    "            a[i][j] = l\n",
    "            l += 1\n",
    "print('Showing Result for \\nStart day = Thursday\\nNumber of days = 30\\n\\n')\n",
    "\n",
    "for i in range(6):\n",
    "    for j in range(7):\n",
    "        print(a[i][j], '\\t', end = '')\n",
    "    print('')\n"
   ]
  },
  {
   "cell_type": "markdown",
   "metadata": {},
   "source": [
    "---\n",
    "Pattern\n",
    "---"
   ]
  },
  {
   "cell_type": "code",
   "execution_count": 28,
   "metadata": {
    "tags": []
   },
   "outputs": [
    {
     "output_type": "stream",
     "name": "stdout",
     "text": "1 \n1 2 \n1 2 3 \n1 2 3 4 \n1 2 3 4 5 \n"
    }
   ],
   "source": [
    "n = 5\n",
    "\n",
    "for i in range(1, n + 1):\n",
    "    for j in range(1, i + 1):\n",
    "        print(j, end = ' ')\n",
    "    print('')"
   ]
  }
 ]
}