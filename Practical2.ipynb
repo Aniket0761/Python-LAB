{
 "metadata": {
  "language_info": {
   "codemirror_mode": {
    "name": "ipython",
    "version": 3
   },
   "file_extension": ".py",
   "mimetype": "text/x-python",
   "name": "python",
   "nbconvert_exporter": "python",
   "pygments_lexer": "ipython3",
   "version": 3
  },
  "orig_nbformat": 2,
  "kernelspec": {
   "name": "python_defaultSpec_1595623623811",
   "display_name": "Python 3.8.4 64-bit"
  }
 },
 "nbformat": 4,
 "nbformat_minor": 2,
 "cells": [
  {
   "cell_type": "code",
   "execution_count": 14,
   "metadata": {},
   "outputs": [],
   "source": [
    "def prime(num):\n",
    "    if num == 1:\n",
    "        return \"Neither Prime Nor Composite\"\n",
    "    for i in range (int(num/2), num):\n",
    "        if num % i == 0:\n",
    "            return False\n",
    "    return True"
   ]
  },
  {
   "cell_type": "code",
   "execution_count": 21,
   "metadata": {},
   "outputs": [
    {
     "output_type": "execute_result",
     "data": {
      "text/plain": "True"
     },
     "metadata": {},
     "execution_count": 21
    }
   ],
   "source": [
    "num = int(input(\"Enter Number: \"))\n",
    "\n",
    "prime(num)"
   ]
  },
  {
   "cell_type": "code",
   "execution_count": 26,
   "metadata": {
    "tags": []
   },
   "outputs": [
    {
     "output_type": "stream",
     "name": "stdout",
     "text": "M \tT \tW \tT \tF \tS \tS \t\n0 \t1 \t2 \t3 \t4 \t5 \t6 \t\n7 \t8 \t9 \t10 \t11 \t12 \t13 \t\n14 \t15 \t16 \t17 \t18 \t19 \t20 \t\n21 \t22 \t23 \t24 \t25 \t26 \t27 \t\n28 \t0 \t0 \t0 \t0 \t0 \t0 \t\n"
    }
   ],
   "source": [
    "days = {'Monday': 0, 'Tuesday':1, 'Wednesday':2, 'Thursday':3, 'Friday':4, 'Saturday':5, 'Sunday':6}\n",
    "\n",
    "start_day = input(\"Enter start day: \")\n",
    "num_of_days = input(\"Enter Number Of Days: \")\n",
    "day = days[start_day]\n",
    "\n",
    "a = [[],[],[],[],[],[],[],[]]\n",
    "l = 1\n",
    "a[0] = ['M','T','W','T','F','S','S']\n",
    "\n",
    "for i in range(1,6):\n",
    "    a[i] = [0, 0, 0, 0, 0, 0, 0]\n",
    "\n",
    "for i in range(1,6):\n",
    "    for j in range(7):\n",
    "        if i == 1 and j < day:\n",
    "            pass\n",
    "        elif l > int(num_of_days):\n",
    "            break\n",
    "        else:\n",
    "            a[i][j] = l\n",
    "            l += 1\n",
    "\n",
    "for i in range(6):\n",
    "    for j in range(7):\n",
    "        print(a[i][j], '\\t', end = '')\n",
    "    print('')\n"
   ]
  },
  {
   "cell_type": "code",
   "execution_count": null,
   "metadata": {},
   "outputs": [],
   "source": []
  }
 ]
}